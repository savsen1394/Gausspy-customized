{
 "cells": [
  {
   "cell_type": "markdown",
   "metadata": {},
   "source": [
    "# Tutorial - Decomposition of a single spectrum\n",
    "\n",
    "Here we show how to prepare and decompose a single spectrum. This can be instructive in how parameter settings influence and impact the decomposition and can be helpful in optimizing the settings."
   ]
  },
  {
   "cell_type": "code",
   "execution_count": 3,
   "metadata": {},
   "outputs": [
    {
     "name": "stdout",
     "output_type": "stream",
     "text": [
      "Collecting matplotlib\n",
      "  Downloading matplotlib-3.7.1-cp38-cp38-macosx_10_12_x86_64.whl (7.4 MB)\n",
      "\u001b[2K     \u001b[90m━━━━━━━━━━━━━━━━━━━━━━━━━━━━━━━━━━━━━━━━\u001b[0m \u001b[32m7.4/7.4 MB\u001b[0m \u001b[31m2.5 MB/s\u001b[0m eta \u001b[36m0:00:00\u001b[0m00:01\u001b[0m00:01\u001b[0m\n",
      "\u001b[?25hRequirement already satisfied: packaging>=20.0 in /Users/greyyard/opt/anaconda3/envs/new_main/lib/python3.8/site-packages (from matplotlib) (23.0)\n",
      "Collecting cycler>=0.10\n",
      "  Using cached cycler-0.11.0-py3-none-any.whl (6.4 kB)\n",
      "Collecting numpy>=1.20\n",
      "  Downloading numpy-1.24.3-cp38-cp38-macosx_10_9_x86_64.whl (19.8 MB)\n",
      "\u001b[2K     \u001b[90m━━━━━━━━━━━━━━━━━━━━━━━━━━━━━━━━━━━━━━━━\u001b[0m \u001b[32m19.8/19.8 MB\u001b[0m \u001b[31m2.0 MB/s\u001b[0m eta \u001b[36m0:00:00\u001b[0m00:01\u001b[0m00:01\u001b[0m\n",
      "\u001b[?25hCollecting pillow>=6.2.0\n",
      "  Downloading Pillow-9.5.0-cp38-cp38-macosx_10_10_x86_64.whl (3.4 MB)\n",
      "\u001b[2K     \u001b[90m━━━━━━━━━━━━━━━━━━━━━━━━━━━━━━━━━━━━━━━━\u001b[0m \u001b[32m3.4/3.4 MB\u001b[0m \u001b[31m2.2 MB/s\u001b[0m eta \u001b[36m0:00:00\u001b[0m00:01\u001b[0m00:01\u001b[0m\n",
      "\u001b[?25hCollecting pyparsing>=2.3.1\n",
      "  Downloading pyparsing-3.0.9-py3-none-any.whl (98 kB)\n",
      "\u001b[2K     \u001b[90m━━━━━━━━━━━━━━━━━━━━━━━━━━━━━━━━━━━━━━━━\u001b[0m \u001b[32m98.3/98.3 kB\u001b[0m \u001b[31m6.3 MB/s\u001b[0m eta \u001b[36m0:00:00\u001b[0m\n",
      "\u001b[?25hCollecting contourpy>=1.0.1\n",
      "  Downloading contourpy-1.0.7-cp38-cp38-macosx_10_9_x86_64.whl (243 kB)\n",
      "\u001b[2K     \u001b[90m━━━━━━━━━━━━━━━━━━━━━━━━━━━━━━━━━━━━━━━\u001b[0m \u001b[32m244.0/244.0 kB\u001b[0m \u001b[31m8.2 MB/s\u001b[0m eta \u001b[36m0:00:00\u001b[0m\n",
      "\u001b[?25hCollecting fonttools>=4.22.0\n",
      "  Downloading fonttools-4.39.3-py3-none-any.whl (1.0 MB)\n",
      "\u001b[2K     \u001b[90m━━━━━━━━━━━━━━━━━━━━━━━━━━━━━━━━━━━━━━━━\u001b[0m \u001b[32m1.0/1.0 MB\u001b[0m \u001b[31m2.5 MB/s\u001b[0m eta \u001b[36m0:00:00\u001b[0ma \u001b[36m0:00:01\u001b[0mm\n",
      "\u001b[?25hCollecting kiwisolver>=1.0.1\n",
      "  Using cached kiwisolver-1.4.4-cp38-cp38-macosx_10_9_x86_64.whl (65 kB)\n",
      "Requirement already satisfied: importlib-resources>=3.2.0 in /Users/greyyard/opt/anaconda3/envs/new_main/lib/python3.8/site-packages (from matplotlib) (5.2.0)\n",
      "Requirement already satisfied: python-dateutil>=2.7 in /Users/greyyard/opt/anaconda3/envs/new_main/lib/python3.8/site-packages (from matplotlib) (2.8.2)\n",
      "Requirement already satisfied: zipp>=3.1.0 in /Users/greyyard/opt/anaconda3/envs/new_main/lib/python3.8/site-packages (from importlib-resources>=3.2.0->matplotlib) (3.11.0)\n",
      "Requirement already satisfied: six>=1.5 in /Users/greyyard/opt/anaconda3/envs/new_main/lib/python3.8/site-packages (from python-dateutil>=2.7->matplotlib) (1.16.0)\n",
      "Installing collected packages: pyparsing, pillow, numpy, kiwisolver, fonttools, cycler, contourpy, matplotlib\n",
      "Successfully installed contourpy-1.0.7 cycler-0.11.0 fonttools-4.39.3 kiwisolver-1.4.4 matplotlib-3.7.1 numpy-1.24.3 pillow-9.5.0 pyparsing-3.0.9\n",
      "Note: you may need to restart the kernel to use updated packages.\n"
     ]
    }
   ],
   "source": [
    "pip install matplotlib"
   ]
  },
  {
   "cell_type": "code",
   "execution_count": 4,
   "metadata": {},
   "outputs": [
    {
     "ename": "ModuleNotFoundError",
     "evalue": "No module named 'gausspyplus'",
     "output_type": "error",
     "traceback": [
      "\u001b[0;31m---------------------------------------------------------------------------\u001b[0m",
      "\u001b[0;31mModuleNotFoundError\u001b[0m                       Traceback (most recent call last)",
      "Cell \u001b[0;32mIn[4], line 6\u001b[0m\n\u001b[1;32m      3\u001b[0m get_ipython()\u001b[38;5;241m.\u001b[39mrun_line_magic(\u001b[38;5;124m'\u001b[39m\u001b[38;5;124mmatplotlib\u001b[39m\u001b[38;5;124m'\u001b[39m, \u001b[38;5;124m'\u001b[39m\u001b[38;5;124minline\u001b[39m\u001b[38;5;124m'\u001b[39m)\n\u001b[1;32m      4\u001b[0m \u001b[38;5;28;01mimport\u001b[39;00m \u001b[38;5;21;01mmatplotlib\u001b[39;00m\u001b[38;5;21;01m.\u001b[39;00m\u001b[38;5;21;01mpyplot\u001b[39;00m \u001b[38;5;28;01mas\u001b[39;00m \u001b[38;5;21;01mplt\u001b[39;00m\n\u001b[0;32m----> 6\u001b[0m \u001b[38;5;28;01mfrom\u001b[39;00m \u001b[38;5;21;01mgausspyplus\u001b[39;00m\u001b[38;5;21;01m.\u001b[39;00m\u001b[38;5;21;01mprepare\u001b[39;00m \u001b[38;5;28;01mimport\u001b[39;00m GaussPyPrepare\n\u001b[1;32m      7\u001b[0m \u001b[38;5;28;01mfrom\u001b[39;00m \u001b[38;5;21;01mgausspyplus\u001b[39;00m\u001b[38;5;21;01m.\u001b[39;00m\u001b[38;5;21;01mdecompose\u001b[39;00m \u001b[38;5;28;01mimport\u001b[39;00m GaussPyDecompose\n",
      "\u001b[0;31mModuleNotFoundError\u001b[0m: No module named 'gausspyplus'"
     ]
    }
   ],
   "source": [
    "import os\n",
    "\n",
    "%matplotlib inline\n",
    "import matplotlib.pyplot as plt\n",
    "\n",
    "from gausspyplus.prepare import GaussPyPrepare\n",
    "from gausspyplus.decompose import GaussPyDecompose"
   ]
  },
  {
   "cell_type": "markdown",
   "metadata": {},
   "source": [
    "In the following we manually set the parameters for the GaussPy+ preparation and Stage 1 of the decomposition. \n",
    "The values of these parameters correspond mostly to the GaussPy+ default values, which yielded good decomposition results for the fitting of CO spectra. See Table F.2 in [Riener et al. 2019](https://arxiv.org/abs/1906.10506) for a more detailed description of the parameters. \n",
    "\n",
    "The most important parameters to change are `alpha1`, `alpha2`, `snr`, and `significance` (also referred to as essential parameters). \n",
    "\n",
    "The `alpha1` and `alpha2` parameters define the kernel size for the smoothing. Note how changing their values impacts the second derivative of the smoothed spectrum (shown in red in the upper and lower left panels in the diagnostic plot that is printed after running the cell below). We recommend setting `alpha1` to a lower value than `alpha2`. We only set `alpha1` and `alpha2` manually for this example of a decomposition of a single spectrum. Usually, we would automatically infer the values for `alpha1` and `alpha2` via a training set (see the notebook `Tutorial_example-GRS`).\n",
    "\n",
    "The `snr` and `significance` parameters define the minimum S/N ratio and the minimum integrated area Gaussian fit components have to fulfill. If you find that ``GaussPy+`` fits too many noise peaks, try setting either the ``significance`` or ``snr`` parameters to higher values. In contrast, if you find that many low-intensity and/or narrow peaks are not fit at all, set one or both of these parameters to lower values. See Sect. 3.2.1.2 and 3.2.1.3 in [Riener et al. 2019](https://arxiv.org/abs/1906.10506) for a description about the ``significance`` and ``snr`` parameters; also see App. C.3 for how changing one or both of these parameters can impact the decomposition results.\n",
    "\n",
    "The remaining parameters control more advanced settings of the algorithm and we recommend playing around with these values only after good settings for the four essential parameters have been found. However, if you run ``GaussPy+`` on HI datasets we recommend to set the ``decompose.refit_broad`` and ``decompose.refit_blended`` parameters to ``False`` (see Sect. 3.2.2.2 and 3.2.2.3 in [Riener et al. 2019](https://arxiv.org/abs/1906.10506))."
   ]
  },
  {
   "cell_type": "code",
   "execution_count": 1,
   "metadata": {},
   "outputs": [
    {
     "ename": "NameError",
     "evalue": "name 'GaussPyPrepare' is not defined",
     "output_type": "error",
     "traceback": [
      "\u001b[0;31m---------------------------------------------------------------------------\u001b[0m",
      "\u001b[0;31mNameError\u001b[0m                                 Traceback (most recent call last)",
      "Cell \u001b[0;32mIn[1], line 24\u001b[0m\n\u001b[1;32m     16\u001b[0m significance \u001b[38;5;241m=\u001b[39m \u001b[38;5;241m5.\u001b[39m\n\u001b[1;32m     19\u001b[0m \u001b[38;5;66;03m#\u001b[39;00m\n\u001b[1;32m     20\u001b[0m \u001b[38;5;66;03m#  Prepare the spectrum for the decomposition\u001b[39;00m\n\u001b[1;32m     21\u001b[0m \u001b[38;5;66;03m#\u001b[39;00m\n\u001b[1;32m     22\u001b[0m \n\u001b[1;32m     23\u001b[0m \u001b[38;5;66;03m#  Initialize the 'GaussPyPrepare' class\u001b[39;00m\n\u001b[0;32m---> 24\u001b[0m prepare \u001b[38;5;241m=\u001b[39m \u001b[43mGaussPyPrepare\u001b[49m()\n\u001b[1;32m     26\u001b[0m \u001b[38;5;66;03m#  Path to the FITS cube.\u001b[39;00m\n\u001b[1;32m     27\u001b[0m prepare\u001b[38;5;241m.\u001b[39mpath_to_file \u001b[38;5;241m=\u001b[39m os\u001b[38;5;241m.\u001b[39mpath\u001b[38;5;241m.\u001b[39mjoin(\n\u001b[1;32m     28\u001b[0m     \u001b[38;5;124m'\u001b[39m\u001b[38;5;124m..\u001b[39m\u001b[38;5;124m'\u001b[39m, \u001b[38;5;124m'\u001b[39m\u001b[38;5;124mgausspyplus\u001b[39m\u001b[38;5;124m'\u001b[39m, \u001b[38;5;124m'\u001b[39m\u001b[38;5;124mdata\u001b[39m\u001b[38;5;124m'\u001b[39m, \u001b[38;5;124m'\u001b[39m\u001b[38;5;124mgrs-test_field.fits\u001b[39m\u001b[38;5;124m'\u001b[39m)\n",
      "\u001b[0;31mNameError\u001b[0m: name 'GaussPyPrepare' is not defined"
     ]
    }
   ],
   "source": [
    "#\n",
    "#  Set the essential parameters\n",
    "#  changing these parameters will have the biggest impact on the decomposition results\n",
    "#\n",
    "\n",
    "#  First smoothing parameter [float]\n",
    "alpha1 = 2.58\n",
    "\n",
    "#  Second smoothing parameter (only used if 'two_phase_decomposition = True') [float]\n",
    "alpha2 = 5.14\n",
    "\n",
    "#  Required minimum signal-to-noise ratio for data peak. [float]\n",
    "snr = 3\n",
    "\n",
    "#  Required minimum value for significance criterion. [float]\n",
    "significance = 5.\n",
    "\n",
    "\n",
    "#\n",
    "#  Prepare the spectrum for the decomposition\n",
    "#\n",
    "\n",
    "#  Initialize the 'GaussPyPrepare' class\n",
    "prepare = GaussPyPrepare()\n",
    "\n",
    "#  Path to the FITS cube.\n",
    "prepare.path_to_file = os.path.join(\n",
    "    '..', 'gausspyplus', 'data', 'grs-test_field.fits')\n",
    "\n",
    "prepare.snr = snr\n",
    "prepare.significance = significance\n",
    "\n",
    "#  Probability threshold given in percent for features of consecutive positive \n",
    "#  or negative channels to be counted as more likely to be a noise feature [float]\n",
    "prepare.p_limit = 0.02\n",
    "\n",
    "#  Number of channels by which an interval (low, upp) gets extended on both sides, \n",
    "#  resulting in (low - pad_channels, upp + pad_channels) [int]\n",
    "prepare.pad_channels = 5\n",
    "\n",
    "#  Constrict goodness-of-fit calculations to spectral regions estimated \n",
    "#  to contain signal [True/False]\n",
    "prepare.signal_mask = True\n",
    "\n",
    "#  Required minimum number of spectral channels that the signal ranges should contain [int]\n",
    "prepare.min_channels = 100\n",
    "\n",
    "#  Mask out ranges in the spectrum; \n",
    "#  specified as a list of tuples [(low1, upp1), ..., (lowN, uppN)]\n",
    "prepare.mask_out_ranges = []\n",
    "\n",
    "#  Required signal-to-noise ratio for negative data values \n",
    "#  to be counted as noise spikes [float]\n",
    "prepare.snr_noise_spike = 5.\n",
    "\n",
    "#  position of the spectrum in the FITS data cube\n",
    "data_location = (31, 40)  # given in (ypix, xpix)\n",
    "\n",
    "#  prepare the single spectrum for the decomposition step\n",
    "prepared_spectrum = prepare.return_single_prepared_spectrum(data_location)\n",
    "\n",
    "\n",
    "#\n",
    "#  Decompose the prepared spectrum\n",
    "#\n",
    "\n",
    "#  Initialize the 'GaussPyDecompose' class\n",
    "decompose = GaussPyDecompose()\n",
    "\n",
    "#  Whether to use one or two smoothing parameters for the decomposition [True/False]\n",
    "decompose.two_phase_decomposition = True\n",
    "\n",
    "decompose.alpha1 = 2.58\n",
    "decompose.alpha2 = 5.14\n",
    "\n",
    "#  Note the following parameters only take effect if 'improve_fitting' is set to True\n",
    "\n",
    "#  Use the improved fitting routine [True/False]\n",
    "decompose.improve_fitting = False\n",
    "\n",
    "decompose.snr = snr\n",
    "decompose.significance = significance\n",
    "\n",
    "#  Exclude Gaussian fit components if their mean position is \n",
    "#  outside the channel range. [bool]\n",
    "decompose.exclude_means_outside_channel_range = True\n",
    "\n",
    "#  Required minimum value for FWHM values of fitted Gaussian components \n",
    "#  specified in fractions of channels. [float]\n",
    "decompose.min_fwhm = 1.\n",
    "\n",
    "#  Enforced maximum value for FWHM parameter specified in fractions of channels. \n",
    "#  Use with caution! Can lead to artifacts in the fitting. [float]\n",
    "decompose.max_fwhm = None\n",
    "\n",
    "#  Required minimum signal-to-noise value for fitted components. \n",
    "#  Defaults to 'snr/2' if not specified. [float]\n",
    "decompose.snr_fit = None\n",
    "\n",
    "#  Required minimum signal-to-noise value for negative data peaks. \n",
    "#  Used in the search for negative residual peaks. \n",
    "#  Defaults to 'snr' if not specified. [float]\n",
    "decompose.snr_negative = None\n",
    "\n",
    "#  p-value for the null hypothesis that the normalised residual \n",
    "#  resembles a normal distribution. [float]\n",
    "decompose.min_pvalue = 0.01\n",
    "\n",
    "#  Factor by which the maximum data value is multiplied to get \n",
    "#  a maximum limit for the fitted amplitudes.\n",
    "decompose.max_amp_factor = 1.1\n",
    "\n",
    "#  Refit negative residual features. [True/False]\n",
    "decompose.refit_neg_res_peak = True\n",
    "\n",
    "#  Refit broad components. [True/False]\n",
    "decompose.refit_broad = True\n",
    "\n",
    "#  Refit blended components. [True/False]\n",
    "decompose.refit_blended = True\n",
    "\n",
    "#  The required minimum separation between two Gaussian components (mean1, fwhm1) \n",
    "#  and (mean2, fwhm2) is determined as separation_factor * min(fwhm1, fwhm2). [float]\n",
    "decompose.separation_factor = 0.8493218\n",
    "\n",
    "#  factor by which the FWHM value of a fit component has to exceed all other \n",
    "#  (neighboring) fit components to get flagged [float]\n",
    "decompose.fwhm_factor = 2.\n",
    "\n",
    "#  maximum number of allowed fit components per spectrum. Use with caution. [int]\n",
    "decompose.max_ncomps = None\n",
    "\n",
    "decompose.single_prepared_spectrum = prepared_spectrum\n",
    "decomposed_test = decompose.decompose()"
   ]
  },
  {
   "cell_type": "markdown",
   "metadata": {},
   "source": [
    "Running the previous cell printed some decomposition diagnostics and produced a multi-panel figure with the following four figures:\n",
    "\n",
    "- **upper left panel**: This figure shows how GaussPy determines the initial guesses for the Gaussian fit parameters in its first decomposition phase. The original input spectrum is shown in black solid lines and the S/N threshold for the original spectrum (``snr`` parameter) is shown with the horizontal dashed black line. The red line indicates the second derivative of the spectrum that was obtained after smoothing the original spectrum with the $\\alpha_{1}$ (``alpha1``) parameter and the red dashed horizontal lines show the corresponding S/N threshold for the second derivative. Initial guesses for the Gaussian fit parameters are shown in green and are determined by peaks in the original spectrum and second derivative of the smoothed spectrum.\n",
    "\n",
    "- **upper right panel**: This figure shows the intermediate fit results (blue line) obtained with the initial guesses for the Gaussian fit parameters obtained in the first decomposition phase. Note that this step is not performed if the ``two_phase_decomposition`` parameter is set to ``False``.\n",
    "\n",
    "- **lower left panel**: This figure shows the second decomposition phase of GaussPy, in which it searches for new peaks in the residual from the intermediate fit. This phase proceeds in a similar way to the first phase, with the difference that now the $\\alpha_{2}$ (``alpha2``) parameter is used to smooth the residual before the derivatives are computed. Note that this step is not performed if the ``two_phase_decomposition`` parameter is set to ``False``.\n",
    "\n",
    "- **lower right panel**: This figure shows the final fit results of GaussPy (orange lines). If the ``improve_fitting`` parameter is set to ``True``, the decomposition results correspond to the outcome of the improved fitting routine of GaussPy+, which aims to further improve the final fitting results of GaussPy. Users can set the ``improve_fitting`` parameter to ``True`` or ``False`` to check the effect of the improved fitting routine of GaussPy+. Note that the fit results of GaussPy+ correspond to the stage before the spatially coherent refitting phases, so decomposition results can still change later on based on neighboring fit results."
   ]
  },
  {
   "cell_type": "markdown",
   "metadata": {},
   "source": [
    "### Decomposition results\n",
    "\n",
    "In the preparation and decomposition steps we obtain two dictionaries. Lets first take a look at the contents of the dictionary created in the preparation step:"
   ]
  },
  {
   "cell_type": "code",
   "execution_count": 9,
   "metadata": {},
   "outputs": [
    {
     "data": {
      "text/plain": [
       "dict_keys(['header', 'nan_mask', 'x_values', 'data_list', 'error', 'index', 'location', 'signal_ranges', 'noise_spike_ranges'])"
      ]
     },
     "execution_count": 9,
     "metadata": {},
     "output_type": "execute_result"
    }
   ],
   "source": [
    "prepared_spectrum.keys()"
   ]
  },
  {
   "cell_type": "markdown",
   "metadata": {},
   "source": [
    "This dictionary contains the following keys:\n",
    "\n",
    "- **data_list**: A list containing information about the intensity values of the spectra\n",
    "\n",
    "- **x_values**: A list containing information about the number of spectral channels per spectrum\n",
    "\n",
    "- **error**: Information about the rms-error of the spectra\n",
    "\n",
    "- **index**: Index of the spectrum in the dictionary (identical to the **index_fit** keyword in the dictionary containing the decomposition results)\n",
    "\n",
    "- **location**: Location of the spectrum in the spectral cube; given as (Y position, X position)\n",
    "\n",
    "- **header**: FITS header of the spectral cube\n",
    "\n",
    "- **nan_mask**: Information about NaN values contained in the spectral cube\n",
    "\n",
    "- **signal_ranges**: Regions in the spectrum determined as containing signal peaks. Goodness-of-fit criteria (such as reduced chi-square values and the AICc parameter use only spectral channels contained in these regions)\n",
    "\n",
    "- **noise_spike_ranges**: Regions in the spectrum determined as containing negative noise spikes. These regions are masked out for goodness-of-fit calculations."
   ]
  },
  {
   "cell_type": "markdown",
   "metadata": {},
   "source": [
    "Next, lets take a look of the dictionary containing the decomposition results:"
   ]
  },
  {
   "cell_type": "code",
   "execution_count": 10,
   "metadata": {
    "scrolled": true
   },
   "outputs": [
    {
     "name": "stdout",
     "output_type": "stream",
     "text": [
      "{'N_blended': [0],\n",
      " 'N_components': [3],\n",
      " 'N_neg_res_peak': [0],\n",
      " 'amplitudes_fit': [[0.6939792574526358,\n",
      "                     0.29698119413899265,\n",
      "                     0.7247287140441242]],\n",
      " 'amplitudes_fit_err': [[0.03917194716614124,\n",
      "                         0.032254053753851604,\n",
      "                         0.03580046335619135]],\n",
      " 'amplitudes_initial': [array([0.77241008, 0.56200033])],\n",
      " 'best_fit_aicc': [-480.22218765533796],\n",
      " 'best_fit_rchi2': [0.8259380409529814],\n",
      " 'fwhms_fit': [[13.922431653933074, 21.56223190610075, 16.863057185543703]],\n",
      " 'fwhms_fit_err': [[0.907431910544114, 3.2583306594389994, 1.1401736225933892]],\n",
      " 'fwhms_initial': [array([22.36189079, 20.03154755])],\n",
      " 'index_fit': [0],\n",
      " 'index_initial': [[0, 0]],\n",
      " 'log_gplus': [[1, 3]],\n",
      " 'means_fit': [[232.4841080311187, 157.00496587754753, 186.05736702587882]],\n",
      " 'means_fit_err': [[0.385350664725867, 1.267552252884515, 0.4659177053239067]],\n",
      " 'means_initial': [array([232.5, 185.5])],\n",
      " 'pvalue': [0.42583542420025555],\n",
      " 'quality_control': [[3]]}\n"
     ]
    }
   ],
   "source": [
    "from pprint import pprint\n",
    "pprint(decomposed_test)"
   ]
  },
  {
   "cell_type": "code",
   "execution_count": 18,
   "metadata": {},
   "outputs": [
    {
     "name": "stdout",
     "output_type": "stream",
     "text": [
      "{'N_blended': [0],\n",
      " 'N_components': [2],\n",
      " 'N_neg_res_peak': [0],\n",
      " 'amplitudes_fit': [[0.4932811216034929, 0.6966698607796322]],\n",
      " 'amplitudes_fit_err': [[0.026335043558641847, 0.04484865907987847]],\n",
      " 'amplitudes_initial': [[]],\n",
      " 'best_fit_aicc': [-394.7619642411725],\n",
      " 'best_fit_rchi2': [1.9327124222255376],\n",
      " 'fwhms_fit': [[39.24756899025881, 13.359145322068233]],\n",
      " 'fwhms_fit_err': [[2.474851465888451, 1.0085230354205916]],\n",
      " 'fwhms_initial': [[]],\n",
      " 'index_fit': [0],\n",
      " 'index_initial': [[]],\n",
      " 'log_gplus': [[1]],\n",
      " 'means_fit': [[182.4611860433631, 232.65245936289992]],\n",
      " 'means_fit_err': [[1.0269218430768623, 0.4260261862884478]],\n",
      " 'means_initial': [[]],\n",
      " 'pvalue': [0.12748138654095814],\n",
      " 'quality_control': [[1]]}\n"
     ]
    }
   ],
   "source": [
    "from pprint import pprint\n",
    "pprint(decomposed_test)"
   ]
  },
  {
   "cell_type": "markdown",
   "metadata": {},
   "source": [
    "This dictionary contains the following keys:\n",
    "\n",
    "- **index_fit**: Index in the dictionary (identical to the 'index' keyword in the dictionary containing the decomposition results)\n",
    "\n",
    "- **amplitudes_fit**, **fwhms_fit**, **means_fit**: Lists containing the fit parameters of the N Gaussian components of the final fit solution in the form of [amplitude_1, amplitude_2, ..., amplitude_N], [fwhm_value_1, fwhm_value_2, ..., fwhm_value_N], [mean_position_value_1, mean_position_value_2, ..., mean_position_value_N]\n",
    "\n",
    "- **amplitudes_fit_err**, **fwhms_fit_err**, **means_fit_err**: Lists containing the corresponding errors of the fit parameters\n",
    "\n",
    "- **best_fit_rchi2**: List of the reduced chi-square values of the best fit solutions\n",
    "\n",
    "- **best_fit_aicc**: List of the values of the corrected Akaike information criterion for the best fit solutions\n",
    "\n",
    "- **pvalue**: List of p-values obtained from the normality tests for the normalised residuals\n",
    "\n",
    "- **amplitudes_initial**, **fwhms_initial**, **means_initial**: Lists containing the fit parameters of the initial guesses for the components (i.e., all components identified in the upper and lower left panels in the Figure above)\n",
    "\n",
    "- **N_components**: List containing the number of fit components of the best fit solutions\n",
    "\n",
    "- **N_blended**: List containing the info about the number of blended components\n",
    "\n",
    "- **N_neg_res_peak**: List containing the info about the number of negative residual peaks introduced by the fit\n",
    "\n",
    "- **log_gplus**: List containing logs of all successful refits of the spectrum in the improved fitting routine of GaussPy+:\n",
    "    - 1: new fit component added from search of positive peaks in the residual\n",
    "    - 2: refit of spectrum due to the presence of negative residual peak(s) in the residual\n",
    "    - 3: refit of the spectrum due to the presence of broad fit component(s)\n",
    "    - 4: refit of the spectrum due to the presence of blended fit components\n",
    "\n",
    "- **quality_control**: List containing logs of fit components by in-built quality criteria:\n",
    "    - 0: FWHM value of component exceeded the ``max_fwhm`` parameter\n",
    "    - 1: FWHM value of component was smaller than the ``min_fwhm`` parameter\n",
    "    - 2: Amplitude value of component did not satisfy the required minimum S/N ratio (default value is ``snr``/2)\n",
    "    - 3: Significance value of the fit components does not satisfy the required minimum value given by the ``significance``parameter\n",
    "    - 4: Mean position of the fit component was outside the channel range\n",
    "    - 5: Mean position of the fit component was outside the determined **signal_ranges** **AND** the fit component did not satisfy the significance criterion)"
   ]
  },
  {
   "cell_type": "code",
   "execution_count": null,
   "metadata": {},
   "outputs": [],
   "source": []
  }
 ],
 "metadata": {
  "kernelspec": {
   "display_name": "Python 3 (ipykernel)",
   "language": "python",
   "name": "python3"
  },
  "language_info": {
   "codemirror_mode": {
    "name": "ipython",
    "version": 3
   },
   "file_extension": ".py",
   "mimetype": "text/x-python",
   "name": "python",
   "nbconvert_exporter": "python",
   "pygments_lexer": "ipython3",
   "version": "3.11.3"
  }
 },
 "nbformat": 4,
 "nbformat_minor": 4
}
